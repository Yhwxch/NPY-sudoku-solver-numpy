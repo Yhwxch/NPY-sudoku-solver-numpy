{
 "cells": [
  {
   "cell_type": "markdown",
   "metadata": {},
   "source": [
    "# Numpy Project - Part 4: 3D Sudokus! Increasing dimensions.\n",
    "\n",
    "Now it's time to increase the number of dimensions of our arrays. We'll use a public [Kaggle Dataset](https://www.kaggle.com/bryanpark/sudoku) that contains 1 million Sudoku games!\n",
    "\n",
    "We've reduced the total dataset to 5000 games for simplicity, but it'll still be fun. Let's get started"
   ]
  },
  {
   "cell_type": "code",
   "execution_count": 37,
   "metadata": {},
   "outputs": [],
   "source": [
    "import numpy as np\n",
    "import csv\n",
    "from sudoku import Board"
   ]
  },
  {
   "cell_type": "markdown",
   "metadata": {},
   "source": [
    "First let's take a look at the structure of the CSV file:"
   ]
  },
  {
   "cell_type": "code",
   "execution_count": 3,
   "metadata": {},
   "outputs": [
    {
     "name": "stderr",
     "output_type": "stream",
     "text": [
      "'Get-Content' is not recognized as an internal or external command,\n",
      "operable program or batch file.\n"
     ]
    }
   ],
   "source": [
    "!Get-Content data/sudoku-small.csv -Head 10"
   ]
  },
  {
   "cell_type": "code",
   "execution_count": 2,
   "metadata": {},
   "outputs": [
    {
     "name": "stdout",
     "output_type": "stream",
     "text": [
      "    5000 data/sudoku-small.csv\n"
     ]
    }
   ],
   "source": [
    "!(Get-Content data/sudoku-small.csv).Count"
   ]
  },
  {
   "cell_type": "markdown",
   "metadata": {},
   "source": [
    "As you can see, it's a very simple CSV containing only 2 columns, the empty board, and the solution. The way the board is expressed is different though; in this case it's just a long string containing all the numbers."
   ]
  },
  {
   "cell_type": "markdown",
   "metadata": {},
   "source": [
    "### 1) Parsing long string lines into valid boards\n",
    "\n",
    "We need to adapt to this new style of expressing Sudoku boards. This is a valuable lesson in data handling: you can't anticipate all the different ways that there will be to express data. It'd be a mistake to extend the `Board` class also including this way of expressing puzzles; we try not to modify our core data structures adding edge cases; instead, we'll write an _\"adapter\"_ (see [Wikipedia's article about the Software Pattern](https://en.wikipedia.org/wiki/Adapter_pattern)), which is just a tiny function that will turn the long puzzle line into a numpy array:"
   ]
  },
  {
   "cell_type": "code",
   "execution_count": 7,
   "metadata": {},
   "outputs": [
    {
     "name": "stdout",
     "output_type": "stream",
     "text": [
      "[0, 0, 4, 3, 0, 0, 2, 0, 9, 0, 0, 5, 0, 0, 9, 0, 0, 1, 0, 7, 0, 0, 6, 0, 0, 4, 3, 0, 0, 6, 0, 0, 2, 0, 8, 7, 1, 9, 0, 0, 0, 7, 4, 0, 0, 0, 5, 0, 0, 8, 3, 0, 0, 0, 6, 0, 0, 0, 0, 0, 1, 0, 5, 0, 0, 3, 5, 0, 8, 6, 9, 0, 0, 4, 2, 9, 1, 0, 3, 0, 0]\n"
     ]
    }
   ],
   "source": [
    "string = '004300209005009001070060043006002087190007400050083000600000105003508690042910300'\n",
    "int_listt = [int(i) for i in string]\n",
    "print(int_listt)"
   ]
  },
  {
   "cell_type": "code",
   "execution_count": 8,
   "metadata": {},
   "outputs": [],
   "source": [
    "def adapt_long_sudoku_line_to_array(line):\n",
    "    rows = []\n",
    "    int_list = [int(i) for i in line]\n",
    "    for i in range(0, 81, 9):\n",
    "        rows.append(int_list[i: i+9])\n",
    "    return rows\n",
    "    "
   ]
  },
  {
   "cell_type": "code",
   "execution_count": 9,
   "metadata": {},
   "outputs": [
    {
     "data": {
      "text/plain": [
       "[[0, 0, 4, 3, 0, 0, 2, 0, 9],\n",
       " [0, 0, 5, 0, 0, 9, 0, 0, 1],\n",
       " [0, 7, 0, 0, 6, 0, 0, 4, 3],\n",
       " [0, 0, 6, 0, 0, 2, 0, 8, 7],\n",
       " [1, 9, 0, 0, 0, 7, 4, 0, 0],\n",
       " [0, 5, 0, 0, 8, 3, 0, 0, 0],\n",
       " [6, 0, 0, 0, 0, 0, 1, 0, 5],\n",
       " [0, 0, 3, 5, 0, 8, 6, 9, 0],\n",
       " [0, 4, 2, 9, 1, 0, 3, 0, 0]]"
      ]
     },
     "execution_count": 9,
     "metadata": {},
     "output_type": "execute_result"
    }
   ],
   "source": [
    "adapt_long_sudoku_line_to_array('004300209005009001070060043006002087190007400050083000600000105003508690042910300')"
   ]
  },
  {
   "cell_type": "code",
   "execution_count": 10,
   "metadata": {},
   "outputs": [],
   "source": [
    "line = '004300209005009001070060043006002087190007400050083000600000105003508690042910300'"
   ]
  },
  {
   "cell_type": "code",
   "execution_count": 11,
   "metadata": {},
   "outputs": [],
   "source": [
    "assert np.array_equal(adapt_long_sudoku_line_to_array(line), np.array([\n",
    "    [0, 0, 4, 3, 0, 0, 2, 0, 9],\n",
    "    [0, 0, 5, 0, 0, 9, 0, 0, 1],\n",
    "    [0, 7, 0, 0, 6, 0, 0, 4, 3],\n",
    "    [0, 0, 6, 0, 0, 2, 0, 8, 7],\n",
    "    [1, 9, 0, 0, 0, 7, 4, 0, 0],\n",
    "    [0, 5, 0, 0, 8, 3, 0, 0, 0],\n",
    "    [6, 0, 0, 0, 0, 0, 1, 0, 5],\n",
    "    [0, 0, 3, 5, 0, 8, 6, 9, 0],\n",
    "    [0, 4, 2, 9, 1, 0, 3, 0, 0]\n",
    "]))"
   ]
  },
  {
   "cell_type": "markdown",
   "metadata": {},
   "source": [
    "### 2) Reading a CSV file into a 3-dimensional array\n",
    "\n",
    "Now it's time to read multiple sudoku puzzles into a single Numpy array. We'll end up with a 3-dimensional array, the first 2 dimensions (x, y) are the ones of a puzzle, and the 3rd dimension (z) is for multiple puzzles. Here's a graphical representation of it:\n",
    "\n",
    "<img width=\"600px\" src=\"https://user-images.githubusercontent.com/872296/68670705-499dce00-052c-11ea-8e82-18a1f435e274.png\">\n"
   ]
  },
  {
   "cell_type": "markdown",
   "metadata": {},
   "source": [
    "For example, we want to create something like this:"
   ]
  },
  {
   "cell_type": "code",
   "execution_count": 12,
   "metadata": {},
   "outputs": [
    {
     "data": {
      "text/plain": [
       "array([[[0, 0, 4, 3, 0, 0, 2, 0, 9],\n",
       "        [0, 0, 5, 0, 0, 9, 0, 0, 1],\n",
       "        [0, 7, 0, 0, 6, 0, 0, 4, 3],\n",
       "        [0, 0, 6, 0, 0, 2, 0, 8, 7],\n",
       "        [1, 9, 0, 0, 0, 7, 4, 0, 0],\n",
       "        [0, 5, 0, 0, 8, 3, 0, 0, 0],\n",
       "        [6, 0, 0, 0, 0, 0, 1, 0, 5],\n",
       "        [0, 0, 3, 5, 0, 8, 6, 9, 0],\n",
       "        [0, 4, 2, 9, 1, 0, 3, 0, 0]],\n",
       "\n",
       "       [[0, 0, 4, 3, 0, 0, 2, 0, 9],\n",
       "        [0, 0, 5, 0, 0, 9, 0, 0, 1],\n",
       "        [0, 7, 0, 0, 6, 0, 0, 4, 3],\n",
       "        [0, 0, 6, 0, 0, 2, 0, 8, 7],\n",
       "        [1, 9, 0, 0, 0, 7, 4, 0, 0],\n",
       "        [0, 5, 0, 0, 8, 3, 0, 0, 0],\n",
       "        [6, 0, 0, 0, 0, 0, 1, 0, 5],\n",
       "        [0, 0, 3, 5, 0, 8, 6, 9, 0],\n",
       "        [0, 4, 2, 9, 1, 0, 3, 0, 0]],\n",
       "\n",
       "       [[0, 0, 4, 3, 0, 0, 2, 0, 9],\n",
       "        [0, 0, 5, 0, 0, 9, 0, 0, 1],\n",
       "        [0, 7, 0, 0, 6, 0, 0, 4, 3],\n",
       "        [0, 0, 6, 0, 0, 2, 0, 8, 7],\n",
       "        [1, 9, 0, 0, 0, 7, 4, 0, 0],\n",
       "        [0, 5, 0, 0, 8, 3, 0, 0, 0],\n",
       "        [6, 0, 0, 0, 0, 0, 1, 0, 5],\n",
       "        [0, 0, 3, 5, 0, 8, 6, 9, 0],\n",
       "        [0, 4, 2, 9, 1, 0, 3, 0, 0]]])"
      ]
     },
     "execution_count": 12,
     "metadata": {},
     "output_type": "execute_result"
    }
   ],
   "source": [
    "np.array([\n",
    "    [\n",
    "        [0, 0, 4, 3, 0, 0, 2, 0, 9],\n",
    "        [0, 0, 5, 0, 0, 9, 0, 0, 1],\n",
    "        [0, 7, 0, 0, 6, 0, 0, 4, 3],\n",
    "        [0, 0, 6, 0, 0, 2, 0, 8, 7],\n",
    "        [1, 9, 0, 0, 0, 7, 4, 0, 0],\n",
    "        [0, 5, 0, 0, 8, 3, 0, 0, 0],\n",
    "        [6, 0, 0, 0, 0, 0, 1, 0, 5],\n",
    "        [0, 0, 3, 5, 0, 8, 6, 9, 0],\n",
    "        [0, 4, 2, 9, 1, 0, 3, 0, 0]\n",
    "    ],\n",
    "    [\n",
    "        [0, 0, 4, 3, 0, 0, 2, 0, 9],\n",
    "        [0, 0, 5, 0, 0, 9, 0, 0, 1],\n",
    "        [0, 7, 0, 0, 6, 0, 0, 4, 3],\n",
    "        [0, 0, 6, 0, 0, 2, 0, 8, 7],\n",
    "        [1, 9, 0, 0, 0, 7, 4, 0, 0],\n",
    "        [0, 5, 0, 0, 8, 3, 0, 0, 0],\n",
    "        [6, 0, 0, 0, 0, 0, 1, 0, 5],\n",
    "        [0, 0, 3, 5, 0, 8, 6, 9, 0],\n",
    "        [0, 4, 2, 9, 1, 0, 3, 0, 0]\n",
    "    ],\n",
    "    [\n",
    "        [0, 0, 4, 3, 0, 0, 2, 0, 9],\n",
    "        [0, 0, 5, 0, 0, 9, 0, 0, 1],\n",
    "        [0, 7, 0, 0, 6, 0, 0, 4, 3],\n",
    "        [0, 0, 6, 0, 0, 2, 0, 8, 7],\n",
    "        [1, 9, 0, 0, 0, 7, 4, 0, 0],\n",
    "        [0, 5, 0, 0, 8, 3, 0, 0, 0],\n",
    "        [6, 0, 0, 0, 0, 0, 1, 0, 5],\n",
    "        [0, 0, 3, 5, 0, 8, 6, 9, 0],\n",
    "        [0, 4, 2, 9, 1, 0, 3, 0, 0]\n",
    "    ],\n",
    "])"
   ]
  },
  {
   "cell_type": "markdown",
   "metadata": {},
   "source": [
    "Now it's time to code! Complete the function `read_sudokus_from_csv`; it receives two parameters, the name of the `csv` file to read and an optional one `read_solutions`. If `read_solutions` is True, you're supposed to read from the second column (solutions) instead of empty puzzles. You can assume the following CSV structure:\n",
    "\n",
    "```\n",
    "quizzes,solutions\n",
    "10084..,183048..\n",
    "30018..,34196..\n",
    "...\n",
    "empty,solved\n",
    "empty,solved\n",
    "```"
   ]
  },
  {
   "cell_type": "code",
   "execution_count": 82,
   "metadata": {},
   "outputs": [],
   "source": [
    "def read_sudokus_from_csv(filename, read_solutions=False):\n",
    "    with open(filename, newline='') as csvfile:\n",
    "        reader = csv.DictReader(csvfile)  # Read the file as a dictionary\n",
    "        sudokus = []  # List to store the 9x9 grids\n",
    "        \n",
    "        for row in reader:\n",
    "            try:\n",
    "                # Get the relevant column (quizzes or solutions)\n",
    "                sudoku_str = row['solutions'] if read_solutions else row['quizzes']\n",
    "                \n",
    "                # Ensure the string has exactly 81 characters\n",
    "                if len(sudoku_str.strip()) != 81:\n",
    "                    print(f\"Skipping invalid sudoku with length {len(sudoku_str.strip())}: {sudoku_str}\")\n",
    "                    continue\n",
    "                \n",
    "                # Convert the string to a list of integers\n",
    "                sudoku_list = [int(char) for char in sudoku_str.strip()]\n",
    "                \n",
    "                # Break the flat list into a 9x9 grid\n",
    "                sudoku_grid = [sudoku_list[i:i+9] for i in range(0, 81, 9)]\n",
    "                \n",
    "                # Append the 9x9 grid to the list of sudokus\n",
    "                sudokus.append(sudoku_grid)\n",
    "                \n",
    "            except KeyError:\n",
    "                # Handle the case where the expected column is missing\n",
    "                print(f\"Column missing in row: {row}\")\n",
    "                continue\n",
    "            except ValueError:\n",
    "                # Handle the case where conversion to integer fails\n",
    "                print(f\"Invalid character in sudoku: {sudoku_str}\")\n",
    "                continue\n",
    "        \n",
    "        return sudokus  # Return the list of 9x9 grids\n"
   ]
  },
  {
   "cell_type": "markdown",
   "metadata": {},
   "source": [
    "For this test we'll use the file `sudoku-micro.csv` that contains only 3 puzzles:"
   ]
  },
  {
   "cell_type": "code",
   "execution_count": 83,
   "metadata": {},
   "outputs": [
    {
     "data": {
      "text/plain": [
       "[[[0, 0, 4, 3, 0, 0, 2, 0, 9],\n",
       "  [0, 0, 5, 0, 0, 9, 0, 0, 1],\n",
       "  [0, 7, 0, 0, 6, 0, 0, 4, 3],\n",
       "  [0, 0, 6, 0, 0, 2, 0, 8, 7],\n",
       "  [1, 9, 0, 0, 0, 7, 4, 0, 0],\n",
       "  [0, 5, 0, 0, 8, 3, 0, 0, 0],\n",
       "  [6, 0, 0, 0, 0, 0, 1, 0, 5],\n",
       "  [0, 0, 3, 5, 0, 8, 6, 9, 0],\n",
       "  [0, 4, 2, 9, 1, 0, 3, 0, 0]],\n",
       " [[0, 4, 0, 1, 0, 0, 0, 5, 0],\n",
       "  [1, 0, 7, 0, 0, 3, 9, 6, 0],\n",
       "  [5, 2, 0, 0, 0, 8, 0, 0, 0],\n",
       "  [0, 0, 0, 0, 0, 0, 0, 1, 7],\n",
       "  [0, 0, 0, 9, 0, 6, 8, 0, 0],\n",
       "  [8, 0, 3, 0, 5, 0, 6, 2, 0],\n",
       "  [0, 9, 0, 0, 6, 0, 5, 4, 3],\n",
       "  [6, 0, 0, 0, 8, 0, 7, 0, 0],\n",
       "  [2, 5, 0, 0, 9, 7, 1, 0, 0]],\n",
       " [[6, 0, 0, 1, 2, 0, 3, 8, 4],\n",
       "  [0, 0, 8, 4, 5, 9, 0, 7, 2],\n",
       "  [0, 0, 0, 0, 0, 6, 0, 0, 5],\n",
       "  [0, 0, 0, 2, 6, 4, 0, 3, 0],\n",
       "  [0, 7, 0, 0, 8, 0, 0, 0, 6],\n",
       "  [9, 4, 0, 0, 0, 3, 0, 0, 0],\n",
       "  [3, 1, 0, 0, 0, 0, 0, 5, 0],\n",
       "  [0, 8, 9, 7, 0, 0, 0, 0, 0],\n",
       "  [5, 0, 2, 0, 0, 0, 1, 9, 0]]]"
      ]
     },
     "execution_count": 83,
     "metadata": {},
     "output_type": "execute_result"
    }
   ],
   "source": [
    "read_sudokus_from_csv('data/sudoku-micro.csv')"
   ]
  },
  {
   "cell_type": "code",
   "execution_count": 84,
   "metadata": {},
   "outputs": [],
   "source": [
    "expected = np.array([[[0, 0, 4, 3, 0, 0, 2, 0, 9],\n",
    "        [0, 0, 5, 0, 0, 9, 0, 0, 1],\n",
    "        [0, 7, 0, 0, 6, 0, 0, 4, 3],\n",
    "        [0, 0, 6, 0, 0, 2, 0, 8, 7],\n",
    "        [1, 9, 0, 0, 0, 7, 4, 0, 0],\n",
    "        [0, 5, 0, 0, 8, 3, 0, 0, 0],\n",
    "        [6, 0, 0, 0, 0, 0, 1, 0, 5],\n",
    "        [0, 0, 3, 5, 0, 8, 6, 9, 0],\n",
    "        [0, 4, 2, 9, 1, 0, 3, 0, 0]],\n",
    "\n",
    "       [[0, 4, 0, 1, 0, 0, 0, 5, 0],\n",
    "        [1, 0, 7, 0, 0, 3, 9, 6, 0],\n",
    "        [5, 2, 0, 0, 0, 8, 0, 0, 0],\n",
    "        [0, 0, 0, 0, 0, 0, 0, 1, 7],\n",
    "        [0, 0, 0, 9, 0, 6, 8, 0, 0],\n",
    "        [8, 0, 3, 0, 5, 0, 6, 2, 0],\n",
    "        [0, 9, 0, 0, 6, 0, 5, 4, 3],\n",
    "        [6, 0, 0, 0, 8, 0, 7, 0, 0],\n",
    "        [2, 5, 0, 0, 9, 7, 1, 0, 0]],\n",
    "\n",
    "       [[6, 0, 0, 1, 2, 0, 3, 8, 4],\n",
    "        [0, 0, 8, 4, 5, 9, 0, 7, 2],\n",
    "        [0, 0, 0, 0, 0, 6, 0, 0, 5],\n",
    "        [0, 0, 0, 2, 6, 4, 0, 3, 0],\n",
    "        [0, 7, 0, 0, 8, 0, 0, 0, 6],\n",
    "        [9, 4, 0, 0, 0, 3, 0, 0, 0],\n",
    "        [3, 1, 0, 0, 0, 0, 0, 5, 0],\n",
    "        [0, 8, 9, 7, 0, 0, 0, 0, 0],\n",
    "        [5, 0, 2, 0, 0, 0, 1, 9, 0]]])"
   ]
  },
  {
   "cell_type": "markdown",
   "metadata": {},
   "source": [
    "Reading solutions:"
   ]
  },
  {
   "cell_type": "code",
   "execution_count": 85,
   "metadata": {},
   "outputs": [],
   "source": [
    "assert np.array_equal(read_sudokus_from_csv('data/sudoku-micro.csv'), expected)"
   ]
  },
  {
   "cell_type": "code",
   "execution_count": 86,
   "metadata": {},
   "outputs": [
    {
     "data": {
      "text/plain": [
       "[[[8, 6, 4, 3, 7, 1, 2, 5, 9],\n",
       "  [3, 2, 5, 8, 4, 9, 7, 6, 1],\n",
       "  [9, 7, 1, 2, 6, 5, 8, 4, 3],\n",
       "  [4, 3, 6, 1, 9, 2, 5, 8, 7],\n",
       "  [1, 9, 8, 6, 5, 7, 4, 3, 2],\n",
       "  [2, 5, 7, 4, 8, 3, 9, 1, 6],\n",
       "  [6, 8, 9, 7, 3, 4, 1, 2, 5],\n",
       "  [7, 1, 3, 5, 2, 8, 6, 9, 4],\n",
       "  [5, 4, 2, 9, 1, 6, 3, 7, 8]],\n",
       " [[3, 4, 6, 1, 7, 9, 2, 5, 8],\n",
       "  [1, 8, 7, 5, 2, 3, 9, 6, 4],\n",
       "  [5, 2, 9, 6, 4, 8, 3, 7, 1],\n",
       "  [9, 6, 5, 8, 3, 2, 4, 1, 7],\n",
       "  [4, 7, 2, 9, 1, 6, 8, 3, 5],\n",
       "  [8, 1, 3, 7, 5, 4, 6, 2, 9],\n",
       "  [7, 9, 8, 2, 6, 1, 5, 4, 3],\n",
       "  [6, 3, 1, 4, 8, 5, 7, 9, 2],\n",
       "  [2, 5, 4, 3, 9, 7, 1, 8, 6]],\n",
       " [[6, 9, 5, 1, 2, 7, 3, 8, 4],\n",
       "  [1, 3, 8, 4, 5, 9, 6, 7, 2],\n",
       "  [7, 2, 4, 8, 3, 6, 9, 1, 5],\n",
       "  [8, 5, 1, 2, 6, 4, 7, 3, 9],\n",
       "  [2, 7, 3, 9, 8, 1, 5, 4, 6],\n",
       "  [9, 4, 6, 5, 7, 3, 8, 2, 1],\n",
       "  [3, 1, 7, 6, 9, 2, 4, 5, 8],\n",
       "  [4, 8, 9, 7, 1, 5, 2, 6, 3],\n",
       "  [5, 6, 2, 3, 4, 8, 1, 9, 7]]]"
      ]
     },
     "execution_count": 86,
     "metadata": {},
     "output_type": "execute_result"
    }
   ],
   "source": [
    "read_sudokus_from_csv('data/sudoku-micro.csv', read_solutions=True)"
   ]
  },
  {
   "cell_type": "code",
   "execution_count": 87,
   "metadata": {},
   "outputs": [],
   "source": [
    "expected = np.array([[[8, 6, 4, 3, 7, 1, 2, 5, 9],\n",
    "        [3, 2, 5, 8, 4, 9, 7, 6, 1],\n",
    "        [9, 7, 1, 2, 6, 5, 8, 4, 3],\n",
    "        [4, 3, 6, 1, 9, 2, 5, 8, 7],\n",
    "        [1, 9, 8, 6, 5, 7, 4, 3, 2],\n",
    "        [2, 5, 7, 4, 8, 3, 9, 1, 6],\n",
    "        [6, 8, 9, 7, 3, 4, 1, 2, 5],\n",
    "        [7, 1, 3, 5, 2, 8, 6, 9, 4],\n",
    "        [5, 4, 2, 9, 1, 6, 3, 7, 8]],\n",
    "\n",
    "       [[3, 4, 6, 1, 7, 9, 2, 5, 8],\n",
    "        [1, 8, 7, 5, 2, 3, 9, 6, 4],\n",
    "        [5, 2, 9, 6, 4, 8, 3, 7, 1],\n",
    "        [9, 6, 5, 8, 3, 2, 4, 1, 7],\n",
    "        [4, 7, 2, 9, 1, 6, 8, 3, 5],\n",
    "        [8, 1, 3, 7, 5, 4, 6, 2, 9],\n",
    "        [7, 9, 8, 2, 6, 1, 5, 4, 3],\n",
    "        [6, 3, 1, 4, 8, 5, 7, 9, 2],\n",
    "        [2, 5, 4, 3, 9, 7, 1, 8, 6]],\n",
    "\n",
    "       [[6, 9, 5, 1, 2, 7, 3, 8, 4],\n",
    "        [1, 3, 8, 4, 5, 9, 6, 7, 2],\n",
    "        [7, 2, 4, 8, 3, 6, 9, 1, 5],\n",
    "        [8, 5, 1, 2, 6, 4, 7, 3, 9],\n",
    "        [2, 7, 3, 9, 8, 1, 5, 4, 6],\n",
    "        [9, 4, 6, 5, 7, 3, 8, 2, 1],\n",
    "        [3, 1, 7, 6, 9, 2, 4, 5, 8],\n",
    "        [4, 8, 9, 7, 1, 5, 2, 6, 3],\n",
    "        [5, 6, 2, 3, 4, 8, 1, 9, 7]]])"
   ]
  },
  {
   "cell_type": "code",
   "execution_count": 88,
   "metadata": {},
   "outputs": [],
   "source": [
    "assert np.array_equal(read_sudokus_from_csv('data/sudoku-micro.csv', read_solutions=True), expected)"
   ]
  },
  {
   "cell_type": "markdown",
   "metadata": {},
   "source": [
    "### Identifying invalid solutions"
   ]
  },
  {
   "cell_type": "markdown",
   "metadata": {},
   "source": [
    "There's another file, `sudoku-invalids.csv` that contains invalid solutions of Sudokus. Your job is to read the solutions, and return only the ones that are invalid."
   ]
  },
  {
   "cell_type": "code",
   "execution_count": 112,
   "metadata": {},
   "outputs": [],
   "source": [
    "import numpy as np\n",
    "import csv\n",
    "\n",
    "def detect_invalid_solutions(file_path):\n",
    "    \"\"\" Detect and return invalid Sudoku solutions from a CSV file. \"\"\"\n",
    "    sudoku_solutions = []\n",
    "\n",
    "    # Read the CSV file using the csv module\n",
    "    with open(file_path, newline='') as csvfile:\n",
    "        reader = csv.DictReader(csvfile)\n",
    "        for row in reader:\n",
    "            sudoku_str = row['solutions']  # Extract the solution string\n",
    "            # Convert the string to a 9x9 grid\n",
    "            grid = [list(map(int, sudoku_str[i:i+9])) for i in range(0, 81, 9)]\n",
    "            sudoku_solutions.append(grid)\n",
    "\n",
    "    invalid_solutions = []\n",
    "\n",
    "    for grid in sudoku_solutions:\n",
    "        board_array = np.array(grid)\n",
    "\n",
    "        # Check rows for duplicates\n",
    "        valid = True\n",
    "        for row in board_array:\n",
    "            if len(set(row)) != 9:\n",
    "                valid = False\n",
    "                break\n",
    "\n",
    "        # Check columns for duplicates\n",
    "        if valid:\n",
    "            for col in board_array.T:  # Transpose to get columns\n",
    "                if len(set(col)) != 9:\n",
    "                    valid = False\n",
    "                    break\n",
    "\n",
    "        # Check 3x3 subgrids for duplicates\n",
    "        if valid:\n",
    "            for i in range(0, 9, 3):\n",
    "                for j in range(0, 9, 3):\n",
    "                    block = board_array[i:i+3, j:j+3].flatten()  # Get the 3x3 block\n",
    "                    if len(set(block)) != 9:\n",
    "                        valid = False\n",
    "                        break\n",
    "\n",
    "        # If the solution is invalid, add it to the invalid_solutions list\n",
    "        if not valid:\n",
    "            invalid_solutions.append(grid)\n",
    "\n",
    "    return invalid_solutions\n",
    "\n"
   ]
  },
  {
   "cell_type": "code",
   "execution_count": 113,
   "metadata": {},
   "outputs": [
    {
     "data": {
      "text/plain": [
       "[[[1, 7, 6, 6, 2, 8, 4, 5, 9],\n",
       "  [5, 3, 8, 1, 4, 9, 6, 7, 2],\n",
       "  [4, 9, 2, 7, 6, 5, 1, 3, 8],\n",
       "  [6, 5, 7, 8, 3, 4, 9, 2, 1],\n",
       "  [9, 2, 4, 6, 5, 1, 3, 8, 7],\n",
       "  [3, 8, 1, 9, 7, 2, 5, 6, 4],\n",
       "  [8, 1, 3, 2, 9, 6, 7, 4, 5],\n",
       "  [7, 4, 9, 5, 8, 3, 2, 1, 6],\n",
       "  [2, 6, 5, 4, 1, 7, 8, 9, 3]],\n",
       " [[9, 9, 5, 7, 8, 4, 6, 1, 3],\n",
       "  [8, 4, 3, 6, 2, 1, 9, 5, 7],\n",
       "  [7, 1, 6, 5, 9, 3, 8, 2, 4],\n",
       "  [3, 7, 2, 1, 5, 9, 4, 8, 6],\n",
       "  [5, 9, 8, 4, 6, 7, 1, 3, 2],\n",
       "  [4, 6, 1, 2, 3, 8, 5, 7, 9],\n",
       "  [6, 3, 4, 8, 7, 5, 2, 9, 1],\n",
       "  [1, 8, 7, 9, 4, 2, 3, 6, 5],\n",
       "  [2, 5, 9, 3, 1, 6, 7, 4, 8]],\n",
       " [[5, 8, 5, 9, 6, 3, 2, 1, 7],\n",
       "  [3, 2, 1, 7, 4, 8, 9, 5, 6],\n",
       "  [6, 9, 7, 1, 2, 5, 4, 8, 3],\n",
       "  [1, 6, 9, 8, 5, 7, 3, 2, 4],\n",
       "  [7, 3, 2, 4, 1, 9, 8, 6, 5],\n",
       "  [8, 4, 5, 2, 3, 6, 1, 7, 9],\n",
       "  [4, 5, 8, 6, 9, 1, 7, 3, 2],\n",
       "  [9, 7, 3, 5, 8, 2, 6, 4, 1],\n",
       "  [2, 1, 6, 3, 7, 4, 5, 9, 8]],\n",
       " [[1, 9, 1, 2, 7, 5, 8, 4, 6],\n",
       "  [2, 6, 4, 9, 8, 1, 7, 5, 3],\n",
       "  [7, 5, 8, 6, 4, 3, 2, 1, 9],\n",
       "  [9, 4, 7, 5, 6, 8, 3, 2, 1],\n",
       "  [8, 2, 3, 1, 9, 7, 5, 6, 4],\n",
       "  [5, 1, 6, 4, 3, 2, 9, 7, 8],\n",
       "  [4, 3, 2, 7, 1, 9, 6, 8, 5],\n",
       "  [6, 8, 5, 3, 2, 4, 1, 9, 7],\n",
       "  [1, 7, 9, 8, 5, 6, 4, 3, 2]],\n",
       " [[4, 2, 7, 6, 4, 1, 9, 8, 3],\n",
       "  [3, 1, 8, 2, 5, 9, 4, 6, 7],\n",
       "  [4, 9, 6, 3, 8, 7, 5, 2, 1],\n",
       "  [9, 6, 2, 8, 7, 4, 3, 1, 5],\n",
       "  [7, 4, 3, 1, 2, 5, 6, 9, 8],\n",
       "  [8, 5, 1, 9, 3, 6, 7, 4, 2],\n",
       "  [6, 3, 9, 5, 1, 8, 2, 7, 4],\n",
       "  [1, 7, 5, 4, 6, 2, 8, 3, 9],\n",
       "  [2, 8, 4, 7, 9, 3, 1, 5, 6]],\n",
       " [[5, 8, 1, 9, 6, 2, 3, 4, 7],\n",
       "  [5, 3, 2, 7, 8, 5, 9, 1, 6],\n",
       "  [9, 7, 6, 3, 1, 4, 8, 2, 5],\n",
       "  [7, 5, 4, 1, 2, 8, 6, 3, 9],\n",
       "  [2, 6, 8, 4, 9, 3, 5, 7, 1],\n",
       "  [1, 9, 3, 5, 7, 6, 4, 8, 2],\n",
       "  [8, 2, 7, 6, 3, 9, 1, 5, 4],\n",
       "  [6, 1, 5, 8, 4, 7, 2, 9, 3],\n",
       "  [3, 4, 9, 2, 5, 1, 7, 6, 8]],\n",
       " [[2, 4, 8, 1, 2, 9, 3, 5, 7],\n",
       "  [6, 1, 3, 5, 7, 2, 9, 4, 8],\n",
       "  [5, 7, 9, 8, 4, 3, 6, 2, 1],\n",
       "  [7, 3, 6, 9, 8, 5, 2, 1, 4],\n",
       "  [1, 8, 4, 2, 3, 6, 5, 7, 9],\n",
       "  [9, 2, 5, 7, 1, 4, 8, 3, 6],\n",
       "  [8, 6, 1, 3, 2, 7, 4, 9, 5],\n",
       "  [4, 9, 2, 6, 5, 1, 7, 8, 3],\n",
       "  [3, 5, 7, 4, 9, 8, 1, 6, 2]],\n",
       " [[2, 3, 1, 4, 9, 8, 7, 2, 6],\n",
       "  [8, 4, 7, 1, 6, 2, 3, 9, 5],\n",
       "  [9, 2, 6, 3, 5, 7, 4, 8, 1],\n",
       "  [7, 1, 8, 2, 4, 5, 6, 3, 9],\n",
       "  [3, 6, 9, 7, 8, 1, 5, 4, 2],\n",
       "  [2, 5, 4, 9, 3, 6, 1, 7, 8],\n",
       "  [1, 7, 3, 5, 2, 9, 8, 6, 4],\n",
       "  [6, 9, 5, 8, 7, 4, 2, 1, 3],\n",
       "  [4, 8, 2, 6, 1, 3, 9, 5, 7]],\n",
       " [[7, 8, 9, 4, 5, 3, 2, 1, 6],\n",
       "  [4, 6, 1, 7, 8, 2, 9, 5, 3],\n",
       "  [2, 3, 5, 1, 6, 9, 4, 7, 8],\n",
       "  [5, 2, 3, 9, 4, 7, 6, 8, 1],\n",
       "  [1, 1, 8, 2, 3, 6, 5, 4, 9],\n",
       "  [9, 4, 6, 5, 1, 8, 3, 2, 7],\n",
       "  [3, 1, 4, 8, 9, 5, 7, 6, 2],\n",
       "  [6, 5, 2, 3, 7, 1, 8, 9, 4],\n",
       "  [8, 9, 7, 6, 2, 4, 1, 3, 5]],\n",
       " [[5, 7, 9, 3, 2, 1, 6, 8, 4],\n",
       "  [8, 1, 4, 6, 5, 9, 7, 3, 2],\n",
       "  [2, 6, 3, 4, 7, 8, 9, 1, 5],\n",
       "  [3, 8, 2, 1, 9, 5, 4, 6, 7],\n",
       "  [4, 5, 7, 4, 3, 6, 1, 9, 8],\n",
       "  [6, 9, 1, 7, 8, 4, 2, 5, 3],\n",
       "  [7, 2, 8, 9, 6, 3, 5, 4, 1],\n",
       "  [9, 4, 5, 8, 1, 7, 3, 2, 6],\n",
       "  [1, 3, 6, 5, 4, 2, 8, 7, 9]],\n",
       " [[9, 1, 9, 3, 5, 4, 7, 2, 6],\n",
       "  [3, 6, 5, 1, 2, 7, 8, 9, 4],\n",
       "  [4, 7, 2, 9, 6, 8, 5, 1, 3],\n",
       "  [1, 8, 3, 5, 7, 9, 4, 6, 2],\n",
       "  [2, 5, 4, 6, 1, 3, 9, 7, 8],\n",
       "  [6, 9, 7, 8, 4, 2, 1, 3, 5],\n",
       "  [8, 3, 6, 7, 9, 5, 2, 4, 1],\n",
       "  [5, 4, 9, 2, 3, 1, 6, 8, 7],\n",
       "  [7, 2, 1, 4, 8, 6, 3, 5, 9]],\n",
       " [[5, 4, 2, 1, 4, 6, 7, 9, 8],\n",
       "  [7, 9, 1, 8, 5, 4, 2, 6, 3],\n",
       "  [8, 3, 6, 9, 2, 7, 5, 1, 4],\n",
       "  [6, 8, 9, 7, 4, 1, 3, 2, 5],\n",
       "  [3, 2, 4, 5, 6, 9, 1, 8, 7],\n",
       "  [1, 7, 5, 3, 8, 2, 9, 4, 6],\n",
       "  [2, 5, 3, 4, 9, 8, 6, 7, 1],\n",
       "  [4, 6, 7, 2, 1, 5, 8, 3, 9],\n",
       "  [9, 1, 8, 6, 7, 3, 4, 5, 2]],\n",
       " [[9, 6, 9, 7, 1, 3, 2, 4, 5],\n",
       "  [3, 2, 5, 8, 4, 9, 1, 6, 7],\n",
       "  [4, 7, 1, 5, 6, 2, 9, 8, 3],\n",
       "  [9, 8, 4, 2, 5, 1, 3, 7, 6],\n",
       "  [7, 5, 3, 9, 8, 6, 4, 2, 1],\n",
       "  [2, 1, 6, 3, 7, 4, 8, 5, 9],\n",
       "  [6, 4, 2, 1, 3, 7, 5, 9, 8],\n",
       "  [5, 3, 7, 4, 9, 8, 6, 1, 2],\n",
       "  [1, 9, 8, 6, 2, 5, 7, 3, 4]]]"
      ]
     },
     "execution_count": 113,
     "metadata": {},
     "output_type": "execute_result"
    }
   ],
   "source": [
    "detect_invalid_solutions('data/sudoku-invalids.csv')"
   ]
  },
  {
   "cell_type": "code",
   "execution_count": 114,
   "metadata": {},
   "outputs": [],
   "source": [
    "assert len(detect_invalid_solutions('data/sudoku-invalids.csv')) == 13"
   ]
  },
  {
   "cell_type": "markdown",
   "metadata": {},
   "source": [
    "## Time to test!\n",
    "\n",
    "Now it's time to move your code to `sudoku.py` and then run all the tests; if they're passing, you can move to the next step!"
   ]
  },
  {
   "cell_type": "code",
   "execution_count": 79,
   "metadata": {},
   "outputs": [
    {
     "name": "stdout",
     "output_type": "stream",
     "text": [
      "\u001b[1m============================= test session starts ==============================\u001b[0m\n",
      "platform darwin -- Python 3.7.4, pytest-5.2.2, py-1.8.0, pluggy-0.13.0\n",
      "rootdir: /Users/santiagobasulto/code/rmotr/curriculum/sudoku-tests\n",
      "collected 4 items                                                              \u001b[0m\n",
      "\n",
      "test_part_4.py \u001b[32m.\u001b[0m\u001b[32m.\u001b[0m\u001b[32m.\u001b[0m\u001b[32m.\u001b[0m\u001b[36m                                                      [100%]\u001b[0m\n",
      "\n",
      "\u001b[32m\u001b[1m============================== 4 passed in 0.12s ===============================\u001b[0m\n"
     ]
    }
   ],
   "source": [
    "!py.test test_part_4.py"
   ]
  }
 ],
 "metadata": {
  "kernelspec": {
   "display_name": "Python 3",
   "language": "python",
   "name": "python3"
  },
  "language_info": {
   "codemirror_mode": {
    "name": "ipython",
    "version": 3
   },
   "file_extension": ".py",
   "mimetype": "text/x-python",
   "name": "python",
   "nbconvert_exporter": "python",
   "pygments_lexer": "ipython3",
   "version": "3.11.4"
  }
 },
 "nbformat": 4,
 "nbformat_minor": 4
}
